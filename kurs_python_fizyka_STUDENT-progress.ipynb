{
 "cells": [
  {
   "cell_type": "markdown",
   "id": "a19ac833",
   "metadata": {},
   "source": [
    "# Kurs Python dla studentów fizyki — Zeszyt ćwiczeń\n",
    "Ten notebook zawiera **zadania tygodniowe**. W każdej sekcji znajdziesz treść zadań oraz miejsce na ich rozwiązanie.\n",
    "Zalecenia:\n",
    "- Uruchamiaj komórki kolejno.\n",
    "- Komentuj kod (krótko wyjaśniaj, co robi).\n",
    "- Możesz dodawać własne komórki z analizą lub wykresami.\n",
    "\n",
    "Powodzenia! 🧪🐍\n"
   ]
  },
  {
   "cell_type": "markdown",
   "id": "d4690e59",
   "metadata": {},
   "source": [
    "## Tydzień 1\n"
   ]
  },
  {
   "cell_type": "markdown",
   "id": "cf5b7ece",
   "metadata": {},
   "source": [
    "**Zadanie 1: Napisz program, który wypisze komunikat 'Hello Physics!'.**"
   ]
  },
  {
   "cell_type": "code",
   "execution_count": null,
   "id": "baf8eef9",
   "metadata": {},
   "outputs": [],
   "source": [
    "# Tu wpisz swoje rozwiązanie"
   ]
  },
  {
   "cell_type": "markdown",
   "id": "da10ab01",
   "metadata": {},
   "source": [
    "**Zadanie 2: Oblicz energię kinetyczną ciała o masie 2 kg i prędkości 3 m/s.**"
   ]
  },
  {
   "cell_type": "code",
   "execution_count": null,
   "id": "db6f159c",
   "metadata": {},
   "outputs": [],
   "source": [
    "# Tu wpisz swoje rozwiązanie"
   ]
  },
  {
   "cell_type": "markdown",
   "id": "489df67d",
   "metadata": {},
   "source": [
    "**Zadanie 3: Policz, ile sekund jest w roku (nieprzestępnym).**"
   ]
  },
  {
   "cell_type": "code",
   "execution_count": null,
   "id": "f8aee370",
   "metadata": {},
   "outputs": [],
   "source": [
    "# Tu wpisz swoje rozwiązanie"
   ]
  }
 ],
 "metadata": {
  "kernelspec": {
   "display_name": "Python 3 (ipykernel)",
   "language": "python",
   "name": "python3"
  },
  "language_info": {
   "codemirror_mode": {
    "name": "ipython",
    "version": 3
   },
   "file_extension": ".py",
   "mimetype": "text/x-python",
   "name": "python",
   "nbconvert_exporter": "python",
   "pygments_lexer": "ipython3",
   "version": "3.12.7"
  }
 },
 "nbformat": 4,
 "nbformat_minor": 5
}
